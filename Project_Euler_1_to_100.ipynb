{
 "cells": [
  {
   "cell_type": "code",
   "execution_count": 4,
   "metadata": {},
   "outputs": [
    {
     "name": "stdout",
     "output_type": "stream",
     "text": [
      "Answer #1: 233168\n"
     ]
    }
   ],
   "source": [
    "# 1\n",
    "\n",
    "natty_nums = 0\n",
    "\n",
    "for num in range(3, 1000):\n",
    "    if num % 3 == 0 or num % 5 == 0:\n",
    "        natty_nums += num\n",
    "\n",
    "print(f'Answer #1: {natty_nums}')"
   ]
  },
  {
   "cell_type": "code",
   "execution_count": 5,
   "metadata": {},
   "outputs": [
    {
     "name": "stdout",
     "output_type": "stream",
     "text": [
      "Answer #2: 4613732\n"
     ]
    }
   ],
   "source": [
    "# 2\n",
    "\n",
    "first = 1\n",
    "second = 2\n",
    "third = first + second\n",
    "\n",
    "even_nums = 2\n",
    "\n",
    "while third < 4000000:\n",
    "    if third % 2 == 0:\n",
    "        even_nums += third\n",
    "    first = second\n",
    "    second = third\n",
    "    third = first + second\n",
    "\n",
    "print(f'Answer #2: {even_nums}')"
   ]
  },
  {
   "cell_type": "code",
   "execution_count": 31,
   "metadata": {},
   "outputs": [
    {
     "data": {
      "text/plain": [
       "'Answer #3: 6857'"
      ]
     },
     "execution_count": 31,
     "metadata": {},
     "output_type": "execute_result"
    }
   ],
   "source": [
    "# 3\n",
    "\n",
    "def prime_finder(num):\n",
    "    \n",
    "    num_length = len(str(num))\n",
    "\n",
    "    while len(str(num)) > num_length - 3:\n",
    "        for n in range(2, num):\n",
    "            if num % n == 0:\n",
    "                num /= n\n",
    "                num = int(num)\n",
    "                break\n",
    "    \n",
    "    for i in range(num - 1, 1, -1):\n",
    "        if num % i == 0:\n",
    "            for j in range(2, i):\n",
    "                if i % j == 0:\n",
    "                    break\n",
    "                else:\n",
    "                    return f'Answer #3: {i}'\n",
    "            \n",
    "prime_finder(600851475143)"
   ]
  },
  {
   "cell_type": "code",
   "execution_count": 51,
   "metadata": {},
   "outputs": [
    {
     "name": "stdout",
     "output_type": "stream",
     "text": [
      "Answer #4: 906609\n"
     ]
    }
   ],
   "source": [
    "# 4\n",
    "\n",
    "list_of_3_digit_numbers = [number for number in range(100, 1000)]\n",
    "\n",
    "cycle_number = 1\n",
    "\n",
    "stationary_pointer = list_of_3_digit_numbers[-cycle_number]\n",
    "moving_pointer = list_of_3_digit_numbers[-cycle_number]\n",
    "\n",
    "greatest_palindrome = None\n",
    "\n",
    "while True:\n",
    "    number_to_test = str(stationary_pointer * moving_pointer)\n",
    "    reversed_number_to_test = number_to_test[::-1]\n",
    "\n",
    "    if stationary_pointer == 100:\n",
    "        break\n",
    "\n",
    "    if number_to_test == reversed_number_to_test:\n",
    "        if greatest_palindrome == None or int(number_to_test) > int(greatest_palindrome):\n",
    "            greatest_palindrome = number_to_test\n",
    "    \n",
    "    moving_pointer -= 1\n",
    "    if moving_pointer < 100:\n",
    "        cycle_number += 1\n",
    "        stationary_pointer = list_of_3_digit_numbers[-cycle_number]\n",
    "        moving_pointer = list_of_3_digit_numbers[-cycle_number]\n",
    "    \n",
    "print(f'Answer #4: {greatest_palindrome}')"
   ]
  },
  {
   "cell_type": "code",
   "execution_count": 57,
   "metadata": {},
   "outputs": [
    {
     "data": {
      "text/plain": [
       "'Answer #5: 232792560'"
      ]
     },
     "execution_count": 57,
     "metadata": {},
     "output_type": "execute_result"
    }
   ],
   "source": [
    "# 5\n",
    "\n",
    "def find_smallest_number_divisible_by_1_through_20():\n",
    "\n",
    "    list_of_numbers_to_divide_by = [number for number in range(1, 21)]\n",
    "    number_being_tested = 20\n",
    "\n",
    "    while True:\n",
    "    \n",
    "        numbers_divided_by = 0\n",
    "\n",
    "        for number_to_divide_by in list_of_numbers_to_divide_by:\n",
    "            if number_being_tested % number_to_divide_by != 0:\n",
    "                break\n",
    "            else:\n",
    "                numbers_divided_by += 1\n",
    "        if numbers_divided_by == 20:\n",
    "            return f'Answer #5: {number_being_tested}'\n",
    "        else:\n",
    "            number_being_tested += 20\n",
    "\n",
    "find_smallest_number_divisible_by_1_through_20()"
   ]
  }
 ],
 "metadata": {
  "kernelspec": {
   "display_name": "Python 3",
   "language": "python",
   "name": "python3"
  },
  "language_info": {
   "codemirror_mode": {
    "name": "ipython",
    "version": 3
   },
   "file_extension": ".py",
   "mimetype": "text/x-python",
   "name": "python",
   "nbconvert_exporter": "python",
   "pygments_lexer": "ipython3",
   "version": "3.11.0"
  },
  "orig_nbformat": 4
 },
 "nbformat": 4,
 "nbformat_minor": 2
}
