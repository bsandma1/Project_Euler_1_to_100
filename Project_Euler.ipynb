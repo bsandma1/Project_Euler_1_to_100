{
 "cells": [
  {
   "cell_type": "code",
   "execution_count": 31,
   "metadata": {},
   "outputs": [
    {
     "name": "stdout",
     "output_type": "stream",
     "text": [
      "Answer #1: 233168\n"
     ]
    }
   ],
   "source": [
    "# 1\n",
    "\n",
    "# Sum of all multiples of 3 or 5 below 1000\n",
    "\n",
    "natty_nums = 0\n",
    "\n",
    "for num in range(3, 1000):\n",
    "    if num % 3 == 0 or num % 5 == 0:\n",
    "        natty_nums += num\n",
    "\n",
    "print(f'Answer #1: {natty_nums}')"
   ]
  },
  {
   "cell_type": "code",
   "execution_count": 2,
   "metadata": {},
   "outputs": [
    {
     "name": "stdout",
     "output_type": "stream",
     "text": [
      "Answer #2: 4613732\n"
     ]
    }
   ],
   "source": [
    "# 2\n",
    "\n",
    "# Sum of the even-valued fibonacci numbers under 4 million (4000000)\n",
    "\n",
    "first = 1\n",
    "second = 2\n",
    "third = first + second\n",
    "\n",
    "even_nums = 2\n",
    "\n",
    "while third < 4000000:\n",
    "    if third % 2 == 0:\n",
    "        even_nums += third\n",
    "    first = second\n",
    "    second = third\n",
    "    third = first + second\n",
    "\n",
    "print(f'Answer #2: {even_nums}')"
   ]
  },
  {
   "cell_type": "code",
   "execution_count": 3,
   "metadata": {},
   "outputs": [
    {
     "data": {
      "text/plain": [
       "'Answer #3: 6857'"
      ]
     },
     "execution_count": 3,
     "metadata": {},
     "output_type": "execute_result"
    }
   ],
   "source": [
    "# 3\n",
    "\n",
    "# What is the largest prime factor of 600851475143\n",
    "\n",
    "def largest_prime_factor_finder(num):\n",
    "\n",
    "    num_length = len(str(num))\n",
    "\n",
    "    while len(str(num)) > num_length - 3:\n",
    "        for n in range(2, num):\n",
    "            if num % n == 0:\n",
    "                num /= n\n",
    "                num = int(num)\n",
    "                break\n",
    "\n",
    "    for i in range(num - 1, 1, -1):\n",
    "        if num % i == 0:\n",
    "            for j in range(2, i):\n",
    "                if i % j == 0:\n",
    "                    break\n",
    "                else:\n",
    "                    return f'Answer #3: {i}'\n",
    "\n",
    "largest_prime_factor_finder(600851475143)"
   ]
  },
  {
   "cell_type": "code",
   "execution_count": 4,
   "metadata": {},
   "outputs": [
    {
     "name": "stdout",
     "output_type": "stream",
     "text": [
      "Answer #4: 906609\n"
     ]
    }
   ],
   "source": [
    "# 4\n",
    "\n",
    "# Largest palindromic number made from the product of two 3-digit numbers \n",
    "\n",
    "list_of_3_digit_numbers = [number for number in range(100, 1000)]\n",
    "\n",
    "cycle_number = 1\n",
    "\n",
    "stationary_pointer = list_of_3_digit_numbers[-cycle_number]\n",
    "moving_pointer = list_of_3_digit_numbers[-cycle_number]\n",
    "\n",
    "greatest_palindrome = None\n",
    "\n",
    "while True:\n",
    "    number_to_test = str(stationary_pointer * moving_pointer)\n",
    "    reversed_number_to_test = number_to_test[::-1]\n",
    "\n",
    "    if stationary_pointer == 100:\n",
    "        break\n",
    "\n",
    "    if number_to_test == reversed_number_to_test:\n",
    "        if greatest_palindrome == None or int(number_to_test) > int(greatest_palindrome):\n",
    "            greatest_palindrome = number_to_test\n",
    "    \n",
    "    moving_pointer -= 1\n",
    "    if moving_pointer < 100:\n",
    "        cycle_number += 1\n",
    "        stationary_pointer = list_of_3_digit_numbers[-cycle_number]\n",
    "        moving_pointer = list_of_3_digit_numbers[-cycle_number]\n",
    "    \n",
    "print(f'Answer #4: {greatest_palindrome}')"
   ]
  },
  {
   "cell_type": "code",
   "execution_count": 5,
   "metadata": {},
   "outputs": [
    {
     "data": {
      "text/plain": [
       "'Answer #5: 232792560'"
      ]
     },
     "execution_count": 5,
     "metadata": {},
     "output_type": "execute_result"
    }
   ],
   "source": [
    "# 5\n",
    "\n",
    "# Smallest number that is divisible by all numbers 1 through 20\n",
    "\n",
    "def find_smallest_number_divisible_by_1_through_20():\n",
    "\n",
    "    list_of_numbers_to_divide_by = [number for number in range(1, 21)]\n",
    "    number_being_tested = 20\n",
    "\n",
    "    while True:\n",
    "    \n",
    "        numbers_divided_by = 0\n",
    "\n",
    "        for number_to_divide_by in list_of_numbers_to_divide_by:\n",
    "            if number_being_tested % number_to_divide_by != 0:\n",
    "                break\n",
    "            else:\n",
    "                numbers_divided_by += 1\n",
    "        if numbers_divided_by == 20:\n",
    "            return f'Answer #5: {number_being_tested}'\n",
    "        else:\n",
    "            number_being_tested += 20\n",
    "\n",
    "find_smallest_number_divisible_by_1_through_20()"
   ]
  },
  {
   "cell_type": "code",
   "execution_count": 6,
   "metadata": {},
   "outputs": [
    {
     "name": "stdout",
     "output_type": "stream",
     "text": [
      "Answer #6: 25164150\n"
     ]
    }
   ],
   "source": [
    "# 6 \n",
    "\n",
    "# Difference between the sum of the first one hundred numbers squared and the square of the first one hundred numbers summed\n",
    "\n",
    "sum_of_first_100_numbers_squared = 0\n",
    "first_100_numbers_summed = 0\n",
    "\n",
    "for number in range(1, 101):\n",
    "    \n",
    "    sum_of_first_100_numbers_squared += number ** 2\n",
    "    first_100_numbers_summed += number\n",
    "\n",
    "square_of_first_100_numbers_summed = first_100_numbers_summed ** 2\n",
    "\n",
    "answer_6 = square_of_first_100_numbers_summed - sum_of_first_100_numbers_squared\n",
    "\n",
    "print(f'Answer #6: {answer_6}')"
   ]
  },
  {
   "cell_type": "code",
   "execution_count": 7,
   "metadata": {},
   "outputs": [
    {
     "data": {
      "text/plain": [
       "'The (10001)th Prime Number is: 104743'"
      ]
     },
     "execution_count": 7,
     "metadata": {},
     "output_type": "execute_result"
    }
   ],
   "source": [
    "# 7\n",
    "\n",
    "# 10001st Prime\n",
    "\n",
    "def find_the_nth_prime_number(nth_prime_number):\n",
    "    \n",
    "    nth_prime_number_counter = 0\n",
    "\n",
    "    current_number = 2\n",
    "    \n",
    "    while True:\n",
    "        \n",
    "        if current_number == 2 or current_number == 3 or current_number == 5 or current_number == 7:\n",
    "            nth_prime_number_counter += 1\n",
    "            if nth_prime_number_counter == nth_prime_number:\n",
    "                return f'The ({nth_prime_number})th Prime Number is: {current_number}'\n",
    "            current_number += 1\n",
    "            continue\n",
    "        \n",
    "        factors_of_current_number = 0\n",
    "\n",
    "        for number in range(2, current_number):\n",
    "            if current_number % number == 0:\n",
    "                factors_of_current_number += 1\n",
    "                break\n",
    "        if factors_of_current_number == 0:\n",
    "            nth_prime_number_counter += 1\n",
    "            if nth_prime_number_counter == nth_prime_number:\n",
    "                return f'The ({nth_prime_number})th Prime Number is: {current_number}'\n",
    "        current_number += 1\n",
    "\n",
    "find_the_nth_prime_number(10001)"
   ]
  },
  {
   "cell_type": "code",
   "execution_count": 8,
   "metadata": {},
   "outputs": [
    {
     "data": {
      "text/plain": [
       "'The larget product from 13 adjacent digits is: 23514624000'"
      ]
     },
     "execution_count": 8,
     "metadata": {},
     "output_type": "execute_result"
    }
   ],
   "source": [
    "# 8 \n",
    "\n",
    "# In a 1000-digit number, find the 13 adjacent digits that have the greatest product\n",
    "\n",
    "def thirteen_digit_greatest_product(one_thousand_digit_number_as_string, number_of_adjacent_digits):\n",
    "    \n",
    "    adjacent_digits = 1\n",
    "    largest_product = 0\n",
    "\n",
    "    for index in range(len(one_thousand_digit_number_as_string)):\n",
    "        \n",
    "        if index == len(one_thousand_digit_number_as_string) - number_of_adjacent_digits + 1:\n",
    "            return f'The larget product from {number_of_adjacent_digits} adjacent digits is: {largest_product}'\n",
    "\n",
    "        i = index\n",
    "        product = int(one_thousand_digit_number_as_string[i])\n",
    "\n",
    "        while adjacent_digits < number_of_adjacent_digits:\n",
    "\n",
    "            adjacent_digits += 1\n",
    "            moving_pointer = one_thousand_digit_number_as_string[i + 1]\n",
    "            product *= int(moving_pointer)\n",
    "            i += 1\n",
    "\n",
    "        if product > largest_product:\n",
    "            largest_product = product\n",
    "\n",
    "        adjacent_digits = 1\n",
    "        \n",
    "#-----------------------------------------------------------------------------------------#\n",
    "\n",
    "one_thousand_digit_number_as_string = \\\n",
    "'73167176531330624919225119674426574742355349194934\\\n",
    "96983520312774506326239578318016984801869478851843\\\n",
    "85861560789112949495459501737958331952853208805511\\\n",
    "12540698747158523863050715693290963295227443043557\\\n",
    "66896648950445244523161731856403098711121722383113\\\n",
    "62229893423380308135336276614282806444486645238749\\\n",
    "30358907296290491560440772390713810515859307960866\\\n",
    "70172427121883998797908792274921901699720888093776\\\n",
    "65727333001053367881220235421809751254540594752243\\\n",
    "52584907711670556013604839586446706324415722155397\\\n",
    "53697817977846174064955149290862569321978468622482\\\n",
    "83972241375657056057490261407972968652414535100474\\\n",
    "82166370484403199890008895243450658541227588666881\\\n",
    "16427171479924442928230863465674813919123162824586\\\n",
    "17866458359124566529476545682848912883142607690042\\\n",
    "24219022671055626321111109370544217506941658960408\\\n",
    "07198403850962455444362981230987879927244284909188\\\n",
    "84580156166097919133875499200524063689912560717606\\\n",
    "05886116467109405077541002256983155200055935729725\\\n",
    "71636269561882670428252483600823257530420752963450'\n",
    "\n",
    "thirteen_digit_greatest_product(one_thousand_digit_number_as_string, 13)"
   ]
  },
  {
   "cell_type": "code",
   "execution_count": 53,
   "metadata": {},
   "outputs": [
    {
     "data": {
      "text/plain": [
       "'(200)^2 + (375)^2 = (425)^2 | 200 + 375 + 425 = 1000 | 200 * 375 * 425 = 31875000'"
      ]
     },
     "execution_count": 53,
     "metadata": {},
     "output_type": "execute_result"
    }
   ],
   "source": [
    "# 9 \n",
    "\n",
    "# A Pythagorean Triplet is when a^2 + b^2 = c^2.  Find the Pythagorean triplet where a + b + c = 1000 and then return a * b * c\n",
    "\n",
    "def pythagorean_triplet_where_sum_of_abc_is_1000():\n",
    "    \n",
    "    list_of_numbers_to_1000 = [number for number in range(1, 1000)]\n",
    "\n",
    "    for a_number in list_of_numbers_to_1000:\n",
    "        a = a_number \n",
    "        for b_number in list_of_numbers_to_1000[a_number + 1:]:\n",
    "            b = b_number\n",
    "            for c_number in list_of_numbers_to_1000[b_number + 1:]:\n",
    "                c = c_number \n",
    "                if (a**2) + (b**2) == c**2:\n",
    "                    if a + b + c == 1000:\n",
    "                        answer_9 = a * b * c\n",
    "                        return f'({a})^2 + ({b})^2 = ({c})^2 | {a} + {b} + {c} = 1000 | {a} * {b} * {c} = {answer_9}'\n",
    "\n",
    "pythagorean_triplet_where_sum_of_abc_is_1000()"
   ]
  },
  {
   "cell_type": "code",
   "execution_count": 2,
   "metadata": {},
   "outputs": [],
   "source": [
    "# 10 (UNSOLVED)\n",
    "\n",
    "# Sum of all the primes below 2 million"
   ]
  },
  {
   "cell_type": "code",
   "execution_count": 31,
   "metadata": {},
   "outputs": [
    {
     "name": "stdout",
     "output_type": "stream",
     "text": [
      "Answer 11: The greatest product from 4 adjacent numbers is = 70600674\n"
     ]
    }
   ],
   "source": [
    "# 11\n",
    "\n",
    "# In this 20 x 20 matrix, what is the greatest product of 4 adjacent numbers either up, down, left, right, or diagonally?\n",
    "\n",
    "number_grid_20x20_string = '''\n",
    "08 02 22 97 38 15 00 40 00 75 04 05 07 78 52 12 50 77 91 08\n",
    "49 49 99 40 17 81 18 57 60 87 17 40 98 43 69 48 04 56 62 00\n",
    "81 49 31 73 55 79 14 29 93 71 40 67 53 88 30 03 49 13 36 65\n",
    "52 70 95 23 04 60 11 42 69 24 68 56 01 32 56 71 37 02 36 91\n",
    "22 31 16 71 51 67 63 89 41 92 36 54 22 40 40 28 66 33 13 80\n",
    "24 47 32 60 99 03 45 02 44 75 33 53 78 36 84 20 35 17 12 50\n",
    "32 98 81 28 64 23 67 10 26 38 40 67 59 54 70 66 18 38 64 70\n",
    "67 26 20 68 02 62 12 20 95 63 94 39 63 08 40 91 66 49 94 21\n",
    "24 55 58 05 66 73 99 26 97 17 78 78 96 83 14 88 34 89 63 72\n",
    "21 36 23 09 75 00 76 44 20 45 35 14 00 61 33 97 34 31 33 95\n",
    "78 17 53 28 22 75 31 67 15 94 03 80 04 62 16 14 09 53 56 92\n",
    "16 39 05 42 96 35 31 47 55 58 88 24 00 17 54 24 36 29 85 57\n",
    "86 56 00 48 35 71 89 07 05 44 44 37 44 60 21 58 51 54 17 58\n",
    "19 80 81 68 05 94 47 69 28 73 92 13 86 52 17 77 04 89 55 40\n",
    "04 52 08 83 97 35 99 16 07 97 57 32 16 26 26 79 33 27 98 66\n",
    "88 36 68 87 57 62 20 72 03 46 33 67 46 55 12 32 63 93 53 69\n",
    "04 42 16 73 38 25 39 11 24 94 72 18 08 46 29 32 40 62 76 36\n",
    "20 69 36 41 72 30 23 88 34 62 99 69 82 67 59 85 74 04 36 16\n",
    "20 73 35 29 78 31 90 01 74 31 49 71 48 86 81 16 23 57 05 54\n",
    "01 70 54 71 83 51 54 69 16 92 33 48 61 43 52 01 89 19 67 48\n",
    "'''\n",
    "\n",
    "# Split the string up at the spaces and convert to list\n",
    "number_grid_20x20_split = number_grid_20x20_string.split()\n",
    "\n",
    "# Create a 20 x 20 grid using nested lists\n",
    "index_counter = 0\n",
    "number_grid = []\n",
    "row_of_numbers = []\n",
    "\n",
    "for number in number_grid_20x20_split:\n",
    "    row_of_numbers.append(int(number))\n",
    "    index_counter += 1\n",
    "    if index_counter % 20 == 0:\n",
    "        number_grid.append(row_of_numbers)\n",
    "        row_of_numbers = []\n",
    "\n",
    "# Find the greatest product using indexes of rows and numbers within rows\n",
    "greatest_product = 0\n",
    "\n",
    "for row_i in range(len(number_grid)):\n",
    "    for i in range(len(number_grid[row_i])):\n",
    "        try:\n",
    "            across = number_grid[row_i][i] * number_grid[row_i][i + 1] * number_grid[row_i][i + 2] * number_grid[row_i][i + 3]\n",
    "            if across > greatest_product:\n",
    "                greatest_product = across\n",
    "        except:\n",
    "            pass\n",
    "        try:\n",
    "            down = number_grid[row_i][i] * number_grid[row_i + 1][i] * number_grid[row_i + 2][i] * number_grid[row_i + 3][i]\n",
    "            if down > greatest_product:\n",
    "                greatest_product = down\n",
    "        except:\n",
    "            pass\n",
    "        try:\n",
    "            right_diagonal = number_grid[row_i][i] * number_grid[row_i + 1][i + 1] * number_grid[row_i + 2][i + 2] * number_grid[row_i + 3][i + 3]\n",
    "            if right_diagonal > greatest_product:\n",
    "                greatest_product = right_diagonal\n",
    "        except:\n",
    "            pass\n",
    "        try:\n",
    "            left_diagonal = number_grid[row_i][i] * number_grid[row_i + 1][i - 1] * number_grid[row_i + 2][i - 2] * number_grid[row_i + 3][i - 3]\n",
    "            if left_diagonal > greatest_product:\n",
    "                greatest_product = left_diagonal\n",
    "        except:\n",
    "            pass\n",
    "\n",
    "print(f'Answer #11: The greatest product from 4 adjacent numbers is = {greatest_product}')\n"
   ]
  },
  {
   "cell_type": "code",
   "execution_count": 3,
   "metadata": {},
   "outputs": [],
   "source": [
    "# 12 (UNSOLVED)"
   ]
  },
  {
   "cell_type": "code",
   "execution_count": 7,
   "metadata": {},
   "outputs": [
    {
     "name": "stdout",
     "output_type": "stream",
     "text": [
      "Answer 13: The first 10 digits of the sum is = 5537376230\n"
     ]
    }
   ],
   "source": [
    "# 13\n",
    "\n",
    "# Work out the first 10 digits of the sum of the 100, 50 digit numbers\n",
    "\n",
    "one_hundred_50_digit_numbers = [\n",
    "37107287533902102798797998220837590246510135740250,\n",
    "46376937677490009712648124896970078050417018260538,\n",
    "74324986199524741059474233309513058123726617309629,\n",
    "91942213363574161572522430563301811072406154908250,\n",
    "23067588207539346171171980310421047513778063246676,\n",
    "89261670696623633820136378418383684178734361726757,\n",
    "28112879812849979408065481931592621691275889832738,\n",
    "44274228917432520321923589422876796487670272189318,\n",
    "47451445736001306439091167216856844588711603153276,\n",
    "70386486105843025439939619828917593665686757934951,\n",
    "62176457141856560629502157223196586755079324193331,\n",
    "64906352462741904929101432445813822663347944758178,\n",
    "92575867718337217661963751590579239728245598838407,\n",
    "58203565325359399008402633568948830189458628227828,\n",
    "80181199384826282014278194139940567587151170094390,\n",
    "35398664372827112653829987240784473053190104293586,\n",
    "86515506006295864861532075273371959191420517255829,\n",
    "71693888707715466499115593487603532921714970056938,\n",
    "54370070576826684624621495650076471787294438377604,\n",
    "53282654108756828443191190634694037855217779295145,\n",
    "36123272525000296071075082563815656710885258350721,\n",
    "45876576172410976447339110607218265236877223636045,\n",
    "17423706905851860660448207621209813287860733969412,\n",
    "81142660418086830619328460811191061556940512689692,\n",
    "51934325451728388641918047049293215058642563049483,\n",
    "62467221648435076201727918039944693004732956340691,\n",
    "15732444386908125794514089057706229429197107928209,\n",
    "55037687525678773091862540744969844508330393682126,\n",
    "18336384825330154686196124348767681297534375946515,\n",
    "80386287592878490201521685554828717201219257766954,\n",
    "78182833757993103614740356856449095527097864797581,\n",
    "16726320100436897842553539920931837441497806860984,\n",
    "48403098129077791799088218795327364475675590848030,\n",
    "87086987551392711854517078544161852424320693150332,\n",
    "59959406895756536782107074926966537676326235447210,\n",
    "69793950679652694742597709739166693763042633987085,\n",
    "41052684708299085211399427365734116182760315001271,\n",
    "65378607361501080857009149939512557028198746004375,\n",
    "35829035317434717326932123578154982629742552737307,\n",
    "94953759765105305946966067683156574377167401875275,\n",
    "88902802571733229619176668713819931811048770190271,\n",
    "25267680276078003013678680992525463401061632866526,\n",
    "36270218540497705585629946580636237993140746255962,\n",
    "24074486908231174977792365466257246923322810917141,\n",
    "91430288197103288597806669760892938638285025333403,\n",
    "34413065578016127815921815005561868836468420090470,\n",
    "23053081172816430487623791969842487255036638784583,\n",
    "11487696932154902810424020138335124462181441773470,\n",
    "63783299490636259666498587618221225225512486764533,\n",
    "67720186971698544312419572409913959008952310058822,\n",
    "95548255300263520781532296796249481641953868218774,\n",
    "76085327132285723110424803456124867697064507995236,\n",
    "37774242535411291684276865538926205024910326572967,\n",
    "23701913275725675285653248258265463092207058596522,\n",
    "29798860272258331913126375147341994889534765745501,\n",
    "18495701454879288984856827726077713721403798879715,\n",
    "38298203783031473527721580348144513491373226651381,\n",
    "34829543829199918180278916522431027392251122869539,\n",
    "40957953066405232632538044100059654939159879593635,\n",
    "29746152185502371307642255121183693803580388584903,\n",
    "41698116222072977186158236678424689157993532961922,\n",
    "62467957194401269043877107275048102390895523597457,\n",
    "23189706772547915061505504953922979530901129967519,\n",
    "86188088225875314529584099251203829009407770775672,\n",
    "11306739708304724483816533873502340845647058077308,\n",
    "82959174767140363198008187129011875491310547126581,\n",
    "97623331044818386269515456334926366572897563400500,\n",
    "42846280183517070527831839425882145521227251250327,\n",
    "55121603546981200581762165212827652751691296897789,\n",
    "32238195734329339946437501907836945765883352399886,\n",
    "75506164965184775180738168837861091527357929701337,\n",
    "62177842752192623401942399639168044983993173312731,\n",
    "32924185707147349566916674687634660915035914677504,\n",
    "99518671430235219628894890102423325116913619626622,\n",
    "73267460800591547471830798392868535206946944540724,\n",
    "76841822524674417161514036427982273348055556214818,\n",
    "97142617910342598647204516893989422179826088076852,\n",
    "87783646182799346313767754307809363333018982642090,\n",
    "10848802521674670883215120185883543223812876952786,\n",
    "71329612474782464538636993009049310363619763878039,\n",
    "62184073572399794223406235393808339651327408011116,\n",
    "66627891981488087797941876876144230030984490851411,\n",
    "60661826293682836764744779239180335110989069790714,\n",
    "85786944089552990653640447425576083659976645795096,\n",
    "66024396409905389607120198219976047599490197230297,\n",
    "64913982680032973156037120041377903785566085089252,\n",
    "16730939319872750275468906903707539413042652315011,\n",
    "94809377245048795150954100921645863754710598436791,\n",
    "78639167021187492431995700641917969777599028300699,\n",
    "15368713711936614952811305876380278410754449733078,\n",
    "40789923115535562561142322423255033685442488917353,\n",
    "44889911501440648020369068063960672322193204149535,\n",
    "41503128880339536053299340368006977710650566631954,\n",
    "81234880673210146739058568557934581403627822703280,\n",
    "82616570773948327592232845941706525094512325230608,\n",
    "22918802058777319719839450180888072429661980811197,\n",
    "77158542502016545090413245809786882778948721859617,\n",
    "72107838435069186155435662884062257473692284509516,\n",
    "20849603980134001723930671666823555245252804609722,\n",
    "53503534226472524250874054075591789781264330331690,\n",
    "]\n",
    "\n",
    "sum_of_100_50_digit_numbers = 0\n",
    "\n",
    "for fifty_digit_number in one_hundred_50_digit_numbers:\n",
    "    sum_of_100_50_digit_numbers += fifty_digit_number\n",
    "\n",
    "string_of_sum = str(sum_of_100_50_digit_numbers)\n",
    "first_10_digits_of_sum = string_of_sum[0:10]\n",
    "print(f'Answer 13: The first 10 digits of the sum is = {first_10_digits_of_sum}')"
   ]
  },
  {
   "cell_type": "code",
   "execution_count": 16,
   "metadata": {},
   "outputs": [
    {
     "data": {
      "text/plain": [
       "'Answer #14: The starting number with the longest Collatz sequence is = 837799'"
      ]
     },
     "execution_count": 16,
     "metadata": {},
     "output_type": "execute_result"
    }
   ],
   "source": [
    "# 14\n",
    "\n",
    "# Which starting number, under one million, produces the longest collatz sequence?\n",
    "\n",
    "def largest_collatz_sequence():\n",
    "\n",
    "    longest_sequence_length = 0\n",
    "\n",
    "    for current_number in range(2, 1000000):\n",
    "        number = current_number\n",
    "        current_sequence_length = 0\n",
    "        while number != 1:\n",
    "            if number % 2 == 0:\n",
    "                number /= 2\n",
    "            else:\n",
    "                number = (3 * number) + 1\n",
    "            current_sequence_length += 1\n",
    "        if current_sequence_length > longest_sequence_length:\n",
    "            longest_sequence_length = current_sequence_length\n",
    "            longest_sequence_starting_number = current_number\n",
    "\n",
    "    return f'Answer #14: The starting number with the longest Collatz sequence is = {longest_sequence_starting_number}'\n",
    "\n",
    "largest_collatz_sequence()"
   ]
  },
  {
   "cell_type": "code",
   "execution_count": 1,
   "metadata": {},
   "outputs": [],
   "source": [
    "# 15 (UNSOLVED)"
   ]
  },
  {
   "cell_type": "code",
   "execution_count": 16,
   "metadata": {},
   "outputs": [
    {
     "data": {
      "text/plain": [
       "1366"
      ]
     },
     "execution_count": 16,
     "metadata": {},
     "output_type": "execute_result"
    }
   ],
   "source": [
    "# 16\n",
    "\n",
    "# What is the sum of the digits of the number 2^1000?\n",
    "\n",
    "def sum_the_digits_of_a_power(exponent):\n",
    "\n",
    "    digits_in_the_powered_number = [int(num) for num in str(2 ** exponent)]\n",
    "\n",
    "    return sum(digits_in_the_powered_number)\n",
    "\n",
    "\n",
    "sum_the_digits_of_a_power(1000)"
   ]
  },
  {
   "cell_type": "code",
   "execution_count": null,
   "metadata": {},
   "outputs": [],
   "source": [
    "# 17 (UNSOLVED)\n",
    "\n",
    "# If all the numbers from 1 to 1000 (one thousand) inclusive were written out in words, how many letters would be used? ('and' is used.  Do not count spaces)"
   ]
  },
  {
   "cell_type": "code",
   "execution_count": 6,
   "metadata": {},
   "outputs": [],
   "source": [
    "# 18 (UNSOLVED)\n",
    "\n",
    "# Find the maximum path sum from the top of the triangle to the bottom\n",
    "\n",
    "#               75\n",
    "#              95 64\n",
    "#             17 47 82\n",
    "#            18 35 87 10\n",
    "#           20 04 82 47 65\n",
    "#          19 01 23 75 03 34\n",
    "#         88 02 77 73 07 63 67\n",
    "#        99 65 04 28 06 16 70 92\n",
    "#       41 41 26 56 83 40 80 70 33\n",
    "#      41 48 72 33 47 32 37 16 94 29\n",
    "#     53 71 44 65 25 43 91 52 97 51 14\n",
    "#    70 11 33 28 77 73 17 78 39 68 17 57\n",
    "#   91 71 52 38 17 14 91 43 58 50 27 29 48\n",
    "#  63 66 04 68 89 53 67 30 73 16 69 87 40 31\n",
    "# 04 62 98 27 23 09 70 98 73 93 38 53 60 04 23\n",
    "\n",
    "triangle =  [[75],\n",
    "            [95, 64],\n",
    "            [17, 47, 82],\n",
    "            [18, 35, 87, 10],\n",
    "            [20, 4, 82, 47, 65],\n",
    "            [19, 1, 23, 75, 3, 34],\n",
    "            [88, 2, 77, 73, 7, 63, 67],\n",
    "            [99, 65, 4, 28, 6, 16, 70, 92],\n",
    "            [41, 41, 26, 56, 83, 40, 80, 70, 33],\n",
    "            [41, 48, 72, 33, 47, 32, 37, 16, 94, 29],\n",
    "            [53, 71, 44, 65, 25, 43, 91, 52, 97, 51, 14],\n",
    "            [70, 11, 33, 28, 77, 73, 17, 78, 39, 68, 17, 57],\n",
    "            [91, 71, 52, 38, 17, 14, 91, 43, 58, 50, 27, 29, 48],\n",
    "            [63, 66, 4, 68, 89, 53, 67, 30, 73, 16, 69, 87, 40, 31],\n",
    "            [4, 62, 98, 27, 23, 9, 70, 98, 73, 93, 38, 53, 60, 4, 23]]"
   ]
  },
  {
   "cell_type": "code",
   "execution_count": null,
   "metadata": {},
   "outputs": [],
   "source": [
    "# 19 (UNSOLVED)"
   ]
  },
  {
   "cell_type": "code",
   "execution_count": null,
   "metadata": {},
   "outputs": [],
   "source": [
    "# 20 (UNSOLVED)"
   ]
  },
  {
   "cell_type": "code",
   "execution_count": null,
   "metadata": {},
   "outputs": [],
   "source": [
    "# 21 (UNSOLVED)"
   ]
  },
  {
   "cell_type": "code",
   "execution_count": null,
   "metadata": {},
   "outputs": [],
   "source": [
    "# 22 (UNSOLVED)"
   ]
  },
  {
   "cell_type": "code",
   "execution_count": null,
   "metadata": {},
   "outputs": [],
   "source": [
    "# 23 (UNSOLVED)"
   ]
  },
  {
   "cell_type": "code",
   "execution_count": null,
   "metadata": {},
   "outputs": [],
   "source": [
    "# 24 (UNSOLVED)"
   ]
  },
  {
   "cell_type": "code",
   "execution_count": 12,
   "metadata": {},
   "outputs": [
    {
     "name": "stdout",
     "output_type": "stream",
     "text": [
      "Answer #25: 4782\n"
     ]
    }
   ],
   "source": [
    "# 25\n",
    "\n",
    "# What is the index of the first fibonacci number to contain 1000 digits?\n",
    "\n",
    "first = 1\n",
    "second = 1\n",
    "third = first + second\n",
    "\n",
    "index = 3\n",
    "\n",
    "while len(str(third)) < 1000:\n",
    "    first = second\n",
    "    second = third\n",
    "    third = first + second\n",
    "    index += 1\n",
    "\n",
    "print(f'Answer #25: {index}')"
   ]
  }
 ],
 "metadata": {
  "kernelspec": {
   "display_name": "Python 3",
   "language": "python",
   "name": "python3"
  },
  "language_info": {
   "codemirror_mode": {
    "name": "ipython",
    "version": 3
   },
   "file_extension": ".py",
   "mimetype": "text/x-python",
   "name": "python",
   "nbconvert_exporter": "python",
   "pygments_lexer": "ipython3",
   "version": "3.11.0"
  },
  "orig_nbformat": 4
 },
 "nbformat": 4,
 "nbformat_minor": 2
}
