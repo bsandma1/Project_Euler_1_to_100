{
 "cells": [
  {
   "cell_type": "code",
   "execution_count": 13,
   "metadata": {},
   "outputs": [
    {
     "name": "stdout",
     "output_type": "stream",
     "text": [
      "Answer #1: 233168\n"
     ]
    }
   ],
   "source": [
    "# 1\n",
    "\n",
    "# Sum of all multiples of 3 or 5 below 1000\n",
    "\n",
    "natty_nums = 0\n",
    "\n",
    "for num in range(3, 1000):\n",
    "    if num % 3 == 0 or num % 5 == 0:\n",
    "        natty_nums += num\n",
    "\n",
    "print(f'Answer #1: {natty_nums}')"
   ]
  },
  {
   "cell_type": "code",
   "execution_count": 14,
   "metadata": {},
   "outputs": [
    {
     "name": "stdout",
     "output_type": "stream",
     "text": [
      "Answer #2: 4613732\n"
     ]
    }
   ],
   "source": [
    "# 2\n",
    "\n",
    "# Sum of the even-valued fibonacci numbers under 4 million (4000000)\n",
    "\n",
    "first = 1\n",
    "second = 2\n",
    "third = first + second\n",
    "\n",
    "even_nums = 2\n",
    "\n",
    "while third < 4000000:\n",
    "    if third % 2 == 0:\n",
    "        even_nums += third\n",
    "    first = second\n",
    "    second = third\n",
    "    third = first + second\n",
    "\n",
    "print(f'Answer #2: {even_nums}')"
   ]
  },
  {
   "cell_type": "code",
   "execution_count": 15,
   "metadata": {},
   "outputs": [
    {
     "data": {
      "text/plain": [
       "'Answer #3: 6857'"
      ]
     },
     "execution_count": 15,
     "metadata": {},
     "output_type": "execute_result"
    }
   ],
   "source": [
    "# 3\n",
    "\n",
    "# What is the largest prime factor of 600851475143\n",
    "\n",
    "def largest_prime_factor_finder(num):\n",
    "\n",
    "    num_length = len(str(num))\n",
    "\n",
    "    while len(str(num)) > num_length - 3:\n",
    "        for n in range(2, num):\n",
    "            if num % n == 0:\n",
    "                num /= n\n",
    "                num = int(num)\n",
    "                break\n",
    "\n",
    "    for i in range(num - 1, 1, -1):\n",
    "        if num % i == 0:\n",
    "            for j in range(2, i):\n",
    "                if i % j == 0:\n",
    "                    break\n",
    "                else:\n",
    "                    return f'Answer #3: {i}'\n",
    "\n",
    "largest_prime_factor_finder(600851475143)"
   ]
  },
  {
   "cell_type": "code",
   "execution_count": 16,
   "metadata": {},
   "outputs": [
    {
     "name": "stdout",
     "output_type": "stream",
     "text": [
      "Answer #4: 906609\n"
     ]
    }
   ],
   "source": [
    "# 4\n",
    "\n",
    "# Largest palindromic number made from the product of two 3-digit numbers \n",
    "\n",
    "list_of_3_digit_numbers = [number for number in range(100, 1000)]\n",
    "\n",
    "cycle_number = 1\n",
    "\n",
    "stationary_pointer = list_of_3_digit_numbers[-cycle_number]\n",
    "moving_pointer = list_of_3_digit_numbers[-cycle_number]\n",
    "\n",
    "greatest_palindrome = None\n",
    "\n",
    "while True:\n",
    "    number_to_test = str(stationary_pointer * moving_pointer)\n",
    "    reversed_number_to_test = number_to_test[::-1]\n",
    "\n",
    "    if stationary_pointer == 100:\n",
    "        break\n",
    "\n",
    "    if number_to_test == reversed_number_to_test:\n",
    "        if greatest_palindrome == None or int(number_to_test) > int(greatest_palindrome):\n",
    "            greatest_palindrome = number_to_test\n",
    "    \n",
    "    moving_pointer -= 1\n",
    "    if moving_pointer < 100:\n",
    "        cycle_number += 1\n",
    "        stationary_pointer = list_of_3_digit_numbers[-cycle_number]\n",
    "        moving_pointer = list_of_3_digit_numbers[-cycle_number]\n",
    "    \n",
    "print(f'Answer #4: {greatest_palindrome}')"
   ]
  },
  {
   "cell_type": "code",
   "execution_count": 17,
   "metadata": {},
   "outputs": [
    {
     "data": {
      "text/plain": [
       "'Answer #5: 232792560'"
      ]
     },
     "execution_count": 17,
     "metadata": {},
     "output_type": "execute_result"
    }
   ],
   "source": [
    "# 5\n",
    "\n",
    "# Smallest number that is divisible by all numbers 1 through 20\n",
    "\n",
    "def find_smallest_number_divisible_by_1_through_20():\n",
    "\n",
    "    list_of_numbers_to_divide_by = [number for number in range(1, 21)]\n",
    "    number_being_tested = 20\n",
    "\n",
    "    while True:\n",
    "    \n",
    "        numbers_divided_by = 0\n",
    "\n",
    "        for number_to_divide_by in list_of_numbers_to_divide_by:\n",
    "            if number_being_tested % number_to_divide_by != 0:\n",
    "                break\n",
    "            else:\n",
    "                numbers_divided_by += 1\n",
    "        if numbers_divided_by == 20:\n",
    "            return f'Answer #5: {number_being_tested}'\n",
    "        else:\n",
    "            number_being_tested += 20\n",
    "\n",
    "find_smallest_number_divisible_by_1_through_20()"
   ]
  },
  {
   "cell_type": "code",
   "execution_count": 18,
   "metadata": {},
   "outputs": [
    {
     "name": "stdout",
     "output_type": "stream",
     "text": [
      "Answer #6: 25164150\n"
     ]
    }
   ],
   "source": [
    "# 6 \n",
    "\n",
    "# Difference between the sum of the first one hundred numbers squared and the square of the first one hundred numbers summed\n",
    "\n",
    "sum_of_first_100_numbers_squared = 0\n",
    "first_100_numbers_summed = 0\n",
    "\n",
    "for number in range(1, 101):\n",
    "    \n",
    "    sum_of_first_100_numbers_squared += number ** 2\n",
    "    first_100_numbers_summed += number\n",
    "\n",
    "square_of_first_100_numbers_summed = first_100_numbers_summed ** 2\n",
    "\n",
    "answer_6 = square_of_first_100_numbers_summed - sum_of_first_100_numbers_squared\n",
    "\n",
    "print(f'Answer #6: {answer_6}')"
   ]
  },
  {
   "cell_type": "code",
   "execution_count": 9,
   "metadata": {},
   "outputs": [
    {
     "name": "stdout",
     "output_type": "stream",
     "text": [
      "The (10001)th Prime Number is: 104743\n"
     ]
    },
    {
     "data": {
      "text/plain": [
       "'Answer #7: 104743'"
      ]
     },
     "execution_count": 9,
     "metadata": {},
     "output_type": "execute_result"
    }
   ],
   "source": [
    "# 7\n",
    "\n",
    "# 10001st Prime\n",
    "\n",
    "def find_the_nth_prime_number(nth_prime_number):\n",
    "    \n",
    "    nth_prime_number_counter = 0\n",
    "\n",
    "    current_number = 2\n",
    "    \n",
    "    while True:\n",
    "        \n",
    "        if current_number == 2 or current_number == 3 or current_number == 5 or current_number == 7:\n",
    "            nth_prime_number_counter += 1\n",
    "            if nth_prime_number_counter == nth_prime_number:\n",
    "                return f'The ({nth_prime_number})th Prime Number is: {current_number}'\n",
    "            current_number += 1\n",
    "            continue\n",
    "        \n",
    "        factors_of_current_number = 0\n",
    "\n",
    "        for number in range(2, current_number):\n",
    "            if current_number % number == 0:\n",
    "                factors_of_current_number += 1\n",
    "                break\n",
    "        if factors_of_current_number == 0:\n",
    "            nth_prime_number_counter += 1\n",
    "            if nth_prime_number_counter == nth_prime_number:\n",
    "                print(f'The ({nth_prime_number})th Prime Number is: {current_number}')\n",
    "                return f'Answer #7: {current_number}'\n",
    "        current_number += 1\n",
    "\n",
    "find_the_nth_prime_number(10001)"
   ]
  },
  {
   "cell_type": "code",
   "execution_count": 10,
   "metadata": {},
   "outputs": [
    {
     "name": "stdout",
     "output_type": "stream",
     "text": [
      "The larget product from 13 adjacent digits is: 23514624000\n"
     ]
    },
    {
     "data": {
      "text/plain": [
       "'Answer #8: 23514624000'"
      ]
     },
     "execution_count": 10,
     "metadata": {},
     "output_type": "execute_result"
    }
   ],
   "source": [
    "# 8 \n",
    "\n",
    "# In a 1000-digit number, find the 13 adjacent digits that have the greatest product\n",
    "\n",
    "def thirteen_digit_greatest_product(one_thousand_digit_number_as_string, number_of_adjacent_digits):\n",
    "    \n",
    "    adjacent_digits = 1\n",
    "    largest_product = 0\n",
    "\n",
    "    for index in range(len(one_thousand_digit_number_as_string)):\n",
    "        \n",
    "        if index == len(one_thousand_digit_number_as_string) - number_of_adjacent_digits + 1:\n",
    "            print(f'The larget product from {number_of_adjacent_digits} adjacent digits is: {largest_product}')\n",
    "            return f'Answer #8: {largest_product}'\n",
    "\n",
    "        i = index\n",
    "        product = int(one_thousand_digit_number_as_string[i])\n",
    "\n",
    "        while adjacent_digits < number_of_adjacent_digits:\n",
    "\n",
    "            adjacent_digits += 1\n",
    "            moving_pointer = one_thousand_digit_number_as_string[i + 1]\n",
    "            product *= int(moving_pointer)\n",
    "            i += 1\n",
    "\n",
    "        if product > largest_product:\n",
    "            largest_product = product\n",
    "\n",
    "        adjacent_digits = 1\n",
    "        \n",
    "#-----------------------------------------------------------------------------------------#\n",
    "\n",
    "one_thousand_digit_number_as_string = \\\n",
    "'73167176531330624919225119674426574742355349194934\\\n",
    "96983520312774506326239578318016984801869478851843\\\n",
    "85861560789112949495459501737958331952853208805511\\\n",
    "12540698747158523863050715693290963295227443043557\\\n",
    "66896648950445244523161731856403098711121722383113\\\n",
    "62229893423380308135336276614282806444486645238749\\\n",
    "30358907296290491560440772390713810515859307960866\\\n",
    "70172427121883998797908792274921901699720888093776\\\n",
    "65727333001053367881220235421809751254540594752243\\\n",
    "52584907711670556013604839586446706324415722155397\\\n",
    "53697817977846174064955149290862569321978468622482\\\n",
    "83972241375657056057490261407972968652414535100474\\\n",
    "82166370484403199890008895243450658541227588666881\\\n",
    "16427171479924442928230863465674813919123162824586\\\n",
    "17866458359124566529476545682848912883142607690042\\\n",
    "24219022671055626321111109370544217506941658960408\\\n",
    "07198403850962455444362981230987879927244284909188\\\n",
    "84580156166097919133875499200524063689912560717606\\\n",
    "05886116467109405077541002256983155200055935729725\\\n",
    "71636269561882670428252483600823257530420752963450'\n",
    "\n",
    "thirteen_digit_greatest_product(one_thousand_digit_number_as_string, 13)"
   ]
  },
  {
   "cell_type": "code",
   "execution_count": 26,
   "metadata": {},
   "outputs": [
    {
     "name": "stdout",
     "output_type": "stream",
     "text": [
      "(200)^2 + (375)^2 = (425)^2 | 200 + 375 + 425 = 1000 | 200 * 375 * 425 = 31875000\n"
     ]
    },
    {
     "data": {
      "text/plain": [
       "'Answer #9: 31875000'"
      ]
     },
     "execution_count": 26,
     "metadata": {},
     "output_type": "execute_result"
    }
   ],
   "source": [
    "# 9 \n",
    "\n",
    "# A Pythagorean Triplet is when a^2 + b^2 = c^2.  Find the Pythagorean triplet where a + b + c = 1000 and then return a * b * c\n",
    "\n",
    "def pythagorean_triplet_where_sum_of_abc_is_1000():\n",
    "    \n",
    "    list_of_numbers_to_1000 = [number for number in range(1, 1000)]\n",
    "\n",
    "    for a_number in list_of_numbers_to_1000:\n",
    "        a = a_number \n",
    "        for b_number in list_of_numbers_to_1000[a_number + 1:]:\n",
    "            b = b_number\n",
    "            for c_number in list_of_numbers_to_1000[b_number + 1:]:\n",
    "                c = c_number \n",
    "                if (a**2) + (b**2) == c**2:\n",
    "                    if a + b + c == 1000:\n",
    "                        answer_9 = a * b * c\n",
    "                        print(f'({a})^2 + ({b})^2 = ({c})^2 | {a} + {b} + {c} = 1000 | {a} * {b} * {c} = {answer_9}')\n",
    "                        return f'Answer #9: {answer_9}'\n",
    "\n",
    "pythagorean_triplet_where_sum_of_abc_is_1000()"
   ]
  },
  {
   "cell_type": "code",
   "execution_count": null,
   "metadata": {},
   "outputs": [],
   "source": [
    "# 10 (UNSOLVED)\n",
    "\n",
    "# Sum of all the primes below 2 million"
   ]
  },
  {
   "cell_type": "code",
   "execution_count": 11,
   "metadata": {},
   "outputs": [
    {
     "name": "stdout",
     "output_type": "stream",
     "text": [
      "The greatest product from 4 adjacent numbers is = 70600674\n",
      "\n",
      "Answer #11: 70600674\n"
     ]
    }
   ],
   "source": [
    "# 11\n",
    "\n",
    "# In this 20 x 20 matrix, what is the greatest product of 4 adjacent numbers either up, down, left, right, or diagonally?\n",
    "\n",
    "number_grid_20x20_string = '''\n",
    "08 02 22 97 38 15 00 40 00 75 04 05 07 78 52 12 50 77 91 08\n",
    "49 49 99 40 17 81 18 57 60 87 17 40 98 43 69 48 04 56 62 00\n",
    "81 49 31 73 55 79 14 29 93 71 40 67 53 88 30 03 49 13 36 65\n",
    "52 70 95 23 04 60 11 42 69 24 68 56 01 32 56 71 37 02 36 91\n",
    "22 31 16 71 51 67 63 89 41 92 36 54 22 40 40 28 66 33 13 80\n",
    "24 47 32 60 99 03 45 02 44 75 33 53 78 36 84 20 35 17 12 50\n",
    "32 98 81 28 64 23 67 10 26 38 40 67 59 54 70 66 18 38 64 70\n",
    "67 26 20 68 02 62 12 20 95 63 94 39 63 08 40 91 66 49 94 21\n",
    "24 55 58 05 66 73 99 26 97 17 78 78 96 83 14 88 34 89 63 72\n",
    "21 36 23 09 75 00 76 44 20 45 35 14 00 61 33 97 34 31 33 95\n",
    "78 17 53 28 22 75 31 67 15 94 03 80 04 62 16 14 09 53 56 92\n",
    "16 39 05 42 96 35 31 47 55 58 88 24 00 17 54 24 36 29 85 57\n",
    "86 56 00 48 35 71 89 07 05 44 44 37 44 60 21 58 51 54 17 58\n",
    "19 80 81 68 05 94 47 69 28 73 92 13 86 52 17 77 04 89 55 40\n",
    "04 52 08 83 97 35 99 16 07 97 57 32 16 26 26 79 33 27 98 66\n",
    "88 36 68 87 57 62 20 72 03 46 33 67 46 55 12 32 63 93 53 69\n",
    "04 42 16 73 38 25 39 11 24 94 72 18 08 46 29 32 40 62 76 36\n",
    "20 69 36 41 72 30 23 88 34 62 99 69 82 67 59 85 74 04 36 16\n",
    "20 73 35 29 78 31 90 01 74 31 49 71 48 86 81 16 23 57 05 54\n",
    "01 70 54 71 83 51 54 69 16 92 33 48 61 43 52 01 89 19 67 48\n",
    "'''\n",
    "\n",
    "# Split the string up at the spaces and convert to list\n",
    "number_grid_20x20_split = number_grid_20x20_string.split()\n",
    "\n",
    "# Create a 20 x 20 grid using nested lists\n",
    "index_counter = 0\n",
    "number_grid = []\n",
    "row_of_numbers = []\n",
    "\n",
    "for number in number_grid_20x20_split:\n",
    "    row_of_numbers.append(int(number))\n",
    "    index_counter += 1\n",
    "    if index_counter % 20 == 0:\n",
    "        number_grid.append(row_of_numbers)\n",
    "        row_of_numbers = []\n",
    "\n",
    "# Find the greatest product using indexes of rows and numbers within rows\n",
    "greatest_product = 0\n",
    "\n",
    "for row_i in range(len(number_grid)):\n",
    "    for i in range(len(number_grid[row_i])):\n",
    "        try:\n",
    "            across = number_grid[row_i][i] * number_grid[row_i][i + 1] * number_grid[row_i][i + 2] * number_grid[row_i][i + 3]\n",
    "            if across > greatest_product:\n",
    "                greatest_product = across\n",
    "        except:\n",
    "            pass\n",
    "        try:\n",
    "            down = number_grid[row_i][i] * number_grid[row_i + 1][i] * number_grid[row_i + 2][i] * number_grid[row_i + 3][i]\n",
    "            if down > greatest_product:\n",
    "                greatest_product = down\n",
    "        except:\n",
    "            pass\n",
    "        try:\n",
    "            right_diagonal = number_grid[row_i][i] * number_grid[row_i + 1][i + 1] * number_grid[row_i + 2][i + 2] * number_grid[row_i + 3][i + 3]\n",
    "            if right_diagonal > greatest_product:\n",
    "                greatest_product = right_diagonal\n",
    "        except:\n",
    "            pass\n",
    "        try:\n",
    "            left_diagonal = number_grid[row_i][i] * number_grid[row_i + 1][i - 1] * number_grid[row_i + 2][i - 2] * number_grid[row_i + 3][i - 3]\n",
    "            if left_diagonal > greatest_product:\n",
    "                greatest_product = left_diagonal\n",
    "        except:\n",
    "            pass\n",
    "\n",
    "print(f'The greatest product from 4 adjacent numbers is = {greatest_product}')\n",
    "print(f'\\nAnswer #11: {greatest_product}')\n"
   ]
  },
  {
   "cell_type": "code",
   "execution_count": null,
   "metadata": {},
   "outputs": [],
   "source": [
    "# 12 (UNSOLVED)"
   ]
  },
  {
   "cell_type": "code",
   "execution_count": 12,
   "metadata": {},
   "outputs": [
    {
     "name": "stdout",
     "output_type": "stream",
     "text": [
      "The first 10 digits of the sum is = 5537376230\n",
      "\n",
      "Answer #13: 5537376230\n"
     ]
    }
   ],
   "source": [
    "# 13\n",
    "\n",
    "# Work out the first 10 digits of the sum of the 100, 50 digit numbers\n",
    "\n",
    "from Problem_imports import one_hundred_50_digit_numbers\n",
    "\n",
    "sum_of_100_50_digit_numbers = 0\n",
    "\n",
    "for fifty_digit_number in one_hundred_50_digit_numbers():\n",
    "    sum_of_100_50_digit_numbers += fifty_digit_number\n",
    "\n",
    "string_of_sum = str(sum_of_100_50_digit_numbers)\n",
    "first_10_digits_of_sum = string_of_sum[0:10]\n",
    "print(f'The first 10 digits of the sum is = {first_10_digits_of_sum}')\n",
    "print(f'\\nAnswer #13: {first_10_digits_of_sum}')"
   ]
  },
  {
   "cell_type": "code",
   "execution_count": 13,
   "metadata": {},
   "outputs": [
    {
     "name": "stdout",
     "output_type": "stream",
     "text": [
      "The starting number with the longest Collatz sequence is = 837799\n"
     ]
    },
    {
     "data": {
      "text/plain": [
       "'Answer #14: 837799'"
      ]
     },
     "execution_count": 13,
     "metadata": {},
     "output_type": "execute_result"
    }
   ],
   "source": [
    "# 14\n",
    "\n",
    "# Which starting number, under one million, produces the longest collatz sequence?\n",
    "\n",
    "def largest_collatz_sequence():\n",
    "\n",
    "    longest_sequence_length = 0\n",
    "\n",
    "    for current_number in range(2, 1000000):\n",
    "        number = current_number\n",
    "        current_sequence_length = 0\n",
    "        while number != 1:\n",
    "            if number % 2 == 0:\n",
    "                number /= 2\n",
    "            else:\n",
    "                number = (3 * number) + 1\n",
    "            current_sequence_length += 1\n",
    "        if current_sequence_length > longest_sequence_length:\n",
    "            longest_sequence_length = current_sequence_length\n",
    "            longest_sequence_starting_number = current_number\n",
    "\n",
    "    print(f'The starting number with the longest Collatz sequence is = {longest_sequence_starting_number}')\n",
    "    return f'Answer #14: {longest_sequence_starting_number}'\n",
    "\n",
    "largest_collatz_sequence()"
   ]
  },
  {
   "cell_type": "code",
   "execution_count": null,
   "metadata": {},
   "outputs": [],
   "source": [
    "# 15 (UNSOLVED)"
   ]
  },
  {
   "cell_type": "code",
   "execution_count": null,
   "metadata": {},
   "outputs": [
    {
     "name": "stdout",
     "output_type": "stream",
     "text": [
      "Answer #16: 1366\n"
     ]
    }
   ],
   "source": [
    "# 16\n",
    "\n",
    "# What is the sum of the digits of the number 2^1000?\n",
    "\n",
    "def sum_the_digits_of_a_power(exponent):\n",
    "\n",
    "    digits_in_the_powered_number = [int(num) for num in str(2 ** exponent)]\n",
    "\n",
    "    return sum(digits_in_the_powered_number)\n",
    "\n",
    "\n",
    "answer_16 = sum_the_digits_of_a_power(1000)\n",
    "print(f'Answer #16: {answer_16}')"
   ]
  },
  {
   "cell_type": "code",
   "execution_count": null,
   "metadata": {},
   "outputs": [],
   "source": [
    "# 17 (UNSOLVED)\n",
    "\n",
    "# If all the numbers from 1 to 1000 (one thousand) inclusive were written out in words, how many letters would be used? ('and' is used.  Do not count spaces)"
   ]
  },
  {
   "cell_type": "code",
   "execution_count": null,
   "metadata": {},
   "outputs": [],
   "source": [
    "# 18 (UNSOLVED)\n",
    "\n",
    "# Find the maximum path sum from the top of the triangle to the bottom\n",
    "\n",
    "#               75\n",
    "#              95 64\n",
    "#             17 47 82\n",
    "#            18 35 87 10\n",
    "#           20 04 82 47 65\n",
    "#          19 01 23 75 03 34\n",
    "#         88 02 77 73 07 63 67\n",
    "#        99 65 04 28 06 16 70 92\n",
    "#       41 41 26 56 83 40 80 70 33\n",
    "#      41 48 72 33 47 32 37 16 94 29\n",
    "#     53 71 44 65 25 43 91 52 97 51 14\n",
    "#    70 11 33 28 77 73 17 78 39 68 17 57\n",
    "#   91 71 52 38 17 14 91 43 58 50 27 29 48\n",
    "#  63 66 04 68 89 53 67 30 73 16 69 87 40 31\n",
    "# 04 62 98 27 23 09 70 98 73 93 38 53 60 04 23\n",
    "\n",
    "triangle =  [[75],\n",
    "            [95, 64],\n",
    "            [17, 47, 82],\n",
    "            [18, 35, 87, 10],\n",
    "            [20, 4, 82, 47, 65],\n",
    "            [19, 1, 23, 75, 3, 34],\n",
    "            [88, 2, 77, 73, 7, 63, 67],\n",
    "            [99, 65, 4, 28, 6, 16, 70, 92],\n",
    "            [41, 41, 26, 56, 83, 40, 80, 70, 33],\n",
    "            [41, 48, 72, 33, 47, 32, 37, 16, 94, 29],\n",
    "            [53, 71, 44, 65, 25, 43, 91, 52, 97, 51, 14],\n",
    "            [70, 11, 33, 28, 77, 73, 17, 78, 39, 68, 17, 57],\n",
    "            [91, 71, 52, 38, 17, 14, 91, 43, 58, 50, 27, 29, 48],\n",
    "            [63, 66, 4, 68, 89, 53, 67, 30, 73, 16, 69, 87, 40, 31],\n",
    "            [4, 62, 98, 27, 23, 9, 70, 98, 73, 93, 38, 53, 60, 4, 23]]"
   ]
  },
  {
   "cell_type": "code",
   "execution_count": null,
   "metadata": {},
   "outputs": [],
   "source": [
    "# 19 (UNSOLVED)"
   ]
  },
  {
   "cell_type": "code",
   "execution_count": null,
   "metadata": {},
   "outputs": [],
   "source": [
    "# 20 (UNSOLVED)"
   ]
  },
  {
   "cell_type": "code",
   "execution_count": null,
   "metadata": {},
   "outputs": [],
   "source": [
    "# 21 (UNSOLVED)"
   ]
  },
  {
   "cell_type": "code",
   "execution_count": 24,
   "metadata": {},
   "outputs": [
    {
     "name": "stdout",
     "output_type": "stream",
     "text": [
      "Answer #22: 871198282\n"
     ]
    }
   ],
   "source": [
    "# 22\n",
    "\n",
    "# Find the sum of all the name scores within the text file \"Problem_22_name_list\" Python file\n",
    "\n",
    "# First sort all the names alphabetically and then find the alphabetical value of each word\n",
    "# Multiply that value by the word's alphabetical position and that will be the name score\n",
    "# Find the sum of every word's name score within the file\n",
    "\n",
    "\n",
    "from Problem_imports import give_me_the_names\n",
    "\n",
    "def find_the_sum_of_name_scores(list_of_names):\n",
    "\n",
    "    list_of_names.sort()\n",
    "\n",
    "    alphabetical_values = {'A': 1, 'B': 2, 'C': 3, 'D': 4, 'E': 5, 'F': 6, 'G': 7, 'H': 8, 'I': 9, 'J': 10, 'K': 11, 'L': 12, 'M': 13,\n",
    "                           'N': 14, 'O': 15, 'P': 16, 'Q': 17, 'R': 18, 'S': 19, 'T': 20, 'U': 21, 'V': 22, 'W': 23, 'X': 24, 'Y': 25, 'Z': 26}\n",
    "\n",
    "    sum_of_name_scores = 0\n",
    "\n",
    "    for word_index in range(len(list_of_names)):\n",
    "        name_score = 0\n",
    "        for letter in list_of_names[word_index]:\n",
    "            name_score += alphabetical_values[letter]\n",
    "        sum_of_name_scores += name_score * (word_index + 1)\n",
    "    \n",
    "    return sum_of_name_scores\n",
    "    \n",
    "\n",
    "answer_22 = find_the_sum_of_name_scores(give_me_the_names())\n",
    "print(f'Answer #22: {answer_22}')"
   ]
  },
  {
   "cell_type": "code",
   "execution_count": null,
   "metadata": {},
   "outputs": [],
   "source": [
    "# 23 (UNSOLVED)"
   ]
  },
  {
   "cell_type": "code",
   "execution_count": null,
   "metadata": {},
   "outputs": [],
   "source": [
    "# 24 (UNSOLVED)"
   ]
  },
  {
   "cell_type": "code",
   "execution_count": null,
   "metadata": {},
   "outputs": [
    {
     "name": "stdout",
     "output_type": "stream",
     "text": [
      "Answer #25: 4782\n"
     ]
    }
   ],
   "source": [
    "# 25\n",
    "\n",
    "# What is the index of the first fibonacci number to contain 1000 digits?\n",
    "\n",
    "first = 1\n",
    "second = 1\n",
    "third = first + second\n",
    "\n",
    "index = 3\n",
    "\n",
    "while len(str(third)) < 1000:\n",
    "    first = second\n",
    "    second = third\n",
    "    third = first + second\n",
    "    index += 1\n",
    "\n",
    "print(f'Answer #25: {index}')"
   ]
  }
 ],
 "metadata": {
  "kernelspec": {
   "display_name": "Python 3",
   "language": "python",
   "name": "python3"
  },
  "language_info": {
   "codemirror_mode": {
    "name": "ipython",
    "version": 3
   },
   "file_extension": ".py",
   "mimetype": "text/x-python",
   "name": "python",
   "nbconvert_exporter": "python",
   "pygments_lexer": "ipython3",
   "version": "3.11.0"
  },
  "orig_nbformat": 4
 },
 "nbformat": 4,
 "nbformat_minor": 2
}
